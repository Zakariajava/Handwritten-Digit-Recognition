{
 "cells": [
  {
   "cell_type": "markdown",
   "id": "cb884a71-39da-4771-bd27-f25f81e7c415",
   "metadata": {},
   "source": [
    "# Test the model"
   ]
  },
  {
   "cell_type": "code",
   "execution_count": 1,
   "id": "9117bd1c-cc6b-42b9-a1ad-95adb3c2b607",
   "metadata": {},
   "outputs": [],
   "source": [
    "import cv2 as cv\n",
    "import numpy as np\n",
    "import matplotlib.pyplot as plt\n",
    "import tensorflow as tf\n",
    "import os"
   ]
  },
  {
   "cell_type": "code",
   "execution_count": 2,
   "id": "f8fe825b-6a46-4f4b-b11d-0cb9a49d792e",
   "metadata": {},
   "outputs": [],
   "source": [
    "# Load the saved model\n",
    "model = tf.keras.models.load_model(\"handwritten_digit.keras\")"
   ]
  },
  {
   "cell_type": "code",
   "execution_count": 23,
   "id": "0f12b746-d698-4246-9a16-77d50599abd6",
   "metadata": {},
   "outputs": [],
   "source": [
    "# Define the path to the folder containing images\n",
    "folder_path = 'numbers'\n",
    "filename = '0.png'"
   ]
  },
  {
   "cell_type": "code",
   "execution_count": 24,
   "id": "30ac67cd-db72-4713-8572-cf91a11576c7",
   "metadata": {},
   "outputs": [
    {
     "name": "stdout",
     "output_type": "stream",
     "text": [
      "\u001b[1m1/1\u001b[0m \u001b[32m━━━━━━━━━━━━━━━━━━━━\u001b[0m\u001b[37m\u001b[0m \u001b[1m0s\u001b[0m 24ms/step\n",
      "The prediction is : 0\n"
     ]
    },
    {
     "data": {
      "image/png": "[encoded data removed]",
      "text/plain": [
       "<Figure size 640x480 with 1 Axes>"
      ]
     },
     "metadata": {},
     "output_type": "display_data"
    }
   ],
   "source": [
    "# Read the image in grayscale\n",
    "img = cv.imread(os.path.join(folder_path, filename), cv.IMREAD_GRAYSCALE)\n",
    "\n",
    "# Check if the image is loaded correctly\n",
    "if img is None:\n",
    "    raise ValueError(f\"Error loading image: {filename}\")\n",
    "\n",
    "# Resize the image to 28x28 pixels if needed\n",
    "img = cv.resize(img, (28, 28))\n",
    "\n",
    "# Normalize the image\n",
    "img = img / 255.0  # Normalize pixel values to the range [0, 1]\n",
    "\n",
    "# Invert colors for normalized images\n",
    "img = 1 - img  \n",
    "\n",
    "# Expand dimensions to match model input shape (1, 28, 28, 1)\n",
    "img = np.expand_dims(img, axis=-1)  \n",
    "img = np.expand_dims(img, axis=0)   \n",
    "\n",
    "# Make prediction\n",
    "prediction = model.predict(img)\n",
    "\n",
    "# Print the prediction\n",
    "print(f'The prediction is : {np.argmax(prediction)}')\n",
    "\n",
    "# Display the image\n",
    "plt.imshow(np.squeeze(img), cmap=plt.cm.binary) \n",
    "plt.title(f'Predicted Number: {np.argmax(prediction)}')\n",
    "plt.axis('off')  # Hide the axis\n",
    "plt.show()"
   ]
  },
  {
   "cell_type": "code",
   "execution_count": null,
   "id": "226c777d-06a3-4f4c-84cb-ef7ef7d46b32",
   "metadata": {},
   "outputs": [],
   "source": []
  },
  {
   "cell_type": "code",
   "execution_count": null,
   "id": "359edab3-583c-440c-9fa0-22673cf7fcf6",
   "metadata": {},
   "outputs": [],
   "source": []
  },
  {
   "cell_type": "code",
   "execution_count": null,
   "id": "041fad5e-ed73-424b-a8ef-e2fa27cf8457",
   "metadata": {},
   "outputs": [],
   "source": []
  }
 ],
 "metadata": {
  "kernelspec": {
   "display_name": "Python 3 (ipykernel)",
   "language": "python",
   "name": "python3"
  },
  "language_info": {
   "codemirror_mode": {
    "name": "ipython",
    "version": 3
   },
   "file_extension": ".py",
   "mimetype": "text/x-python",
   "name": "python",
   "nbconvert_exporter": "python",
   "pygments_lexer": "ipython3",
   "version": "3.12.4"
  }
 },
 "nbformat": 4,
 "nbformat_minor": 5
}
