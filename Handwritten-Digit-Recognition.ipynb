{
 "cells": [
  {
   "cell_type": "markdown",
   "id": "651b80fd-fd30-4dff-a2a8-696c0e49b8ab",
   "metadata": {},
   "source": [
    "# Handwritten Digit Recognition with Tensorflow"
   ]
  },
  {
   "cell_type": "code",
   "execution_count": 1,
   "id": "36bac973-8e23-4b99-9c79-00c0960c826c",
   "metadata": {},
   "outputs": [],
   "source": [
    "import cv2 as cv\n",
    "import numpy as np\n",
    "import matplotlib.pyplot as plt\n",
    "import tensorflow as tf"
   ]
  },
  {
   "cell_type": "code",
   "execution_count": 2,
   "id": "7b3dd9e6-7359-441b-9f65-a42508b94cb1",
   "metadata": {},
   "outputs": [],
   "source": [
    "# Loads the MNIST dataset, which contains images of handwritten digits and their corresponding labels\n",
    "mnist = tf.keras.datasets.mnist\n",
    "# loading the amnest data and split it into training and testing set  \n",
    "(x_train, y_train), (x_test, y_test) = mnist.load_data()"
   ]
  },
  {
   "cell_type": "code",
   "execution_count": 3,
   "id": "ba7afdcf-6340-41ee-8e87-4471707b6f18",
   "metadata": {},
   "outputs": [],
   "source": [
    "# Normalize the scale it down between 0 and 1\n",
    "x_train =tf.keras.utils.normalize(x_train, axis=1)\n",
    "x_test =tf.keras.utils.normalize(x_test, axis=1)\n",
    "# we dont normalize the y_train, y_test because they are the labels has values betweeen (0,9)"
   ]
  },
  {
   "cell_type": "code",
   "execution_count": 4,
   "id": "fd378593-2f81-4586-94d4-62d636fdd2c3",
   "metadata": {},
   "outputs": [
    {
     "name": "stderr",
     "output_type": "stream",
     "text": [
      "C:\\Users\\Zakaria\\AppData\\Local\\Programs\\Python\\Python312\\Lib\\site-packages\\keras\\src\\layers\\reshaping\\flatten.py:37: UserWarning: Do not pass an `input_shape`/`input_dim` argument to a layer. When using Sequential models, prefer using an `Input(shape)` object as the first layer in the model instead.\n",
      "  super().__init__(**kwargs)\n"
     ]
    }
   ],
   "source": [
    "# Define the model \n",
    "# input layer, two dense layer and one output layer\n",
    "model = tf.keras.models.Sequential() # ordinary feed forward neural network\n",
    "model.add(tf.keras.layers.Flatten(input_shape=(28,28))) # adding one flatter layer 1 dimension 28x28 pixles of each image\n",
    "model.add(tf.keras.layers.Dense(units=512, activation='relu')) # dense means all the input features are conected to all the unit in this hidden layer\n",
    "model.add(tf.keras.layers.Dense(units=256, activation='relu'))\n",
    "# Output layer with 10 neurons and softmax activation for multi-class classification\n",
    "model.add(tf.keras.layers.Dense(units=10, activation='softmax'))  "
   ]
  },
  {
   "cell_type": "code",
   "execution_count": 5,
   "id": "6f5546cc-9f5b-4d24-aee5-1f8afb89c8e0",
   "metadata": {},
   "outputs": [],
   "source": [
    "# Compile the model with Adam optimizer, sparse categorical crossentropy loss function, and accuracy as the evaluation metric\n",
    "model.compile(optimizer = 'adam', loss = 'sparse_categorical_crossentropy', metrics = ['accuracy'])"
   ]
  },
  {
   "cell_type": "code",
   "execution_count": 6,
   "id": "49ea1d6a-b96e-4003-b522-64fa780b816f",
   "metadata": {},
   "outputs": [
    {
     "name": "stdout",
     "output_type": "stream",
     "text": [
      "Epoch 1/5\n",
      "\u001b[1m1875/1875\u001b[0m \u001b[32m━━━━━━━━━━━━━━━━━━━━\u001b[0m\u001b[37m\u001b[0m \u001b[1m8s\u001b[0m 4ms/step - accuracy: 0.8939 - loss: 0.3589\n",
      "Epoch 2/5\n",
      "\u001b[1m1875/1875\u001b[0m \u001b[32m━━━━━━━━━━━━━━━━━━━━\u001b[0m\u001b[37m\u001b[0m \u001b[1m8s\u001b[0m 4ms/step - accuracy: 0.9742 - loss: 0.0837\n",
      "Epoch 3/5\n",
      "\u001b[1m1875/1875\u001b[0m \u001b[32m━━━━━━━━━━━━━━━━━━━━\u001b[0m\u001b[37m\u001b[0m \u001b[1m8s\u001b[0m 4ms/step - accuracy: 0.9840 - loss: 0.0495\n",
      "Epoch 4/5\n",
      "\u001b[1m1875/1875\u001b[0m \u001b[32m━━━━━━━━━━━━━━━━━━━━\u001b[0m\u001b[37m\u001b[0m \u001b[1m8s\u001b[0m 4ms/step - accuracy: 0.9874 - loss: 0.0383\n",
      "Epoch 5/5\n",
      "\u001b[1m1875/1875\u001b[0m \u001b[32m━━━━━━━━━━━━━━━━━━━━\u001b[0m\u001b[37m\u001b[0m \u001b[1m8s\u001b[0m 4ms/step - accuracy: 0.9916 - loss: 0.0240\n"
     ]
    },
    {
     "data": {
      "text/plain": [
       "<keras.src.callbacks.history.History at 0x1c6ace093d0>"
      ]
     },
     "execution_count": 6,
     "metadata": {},
     "output_type": "execute_result"
    }
   ],
   "source": [
    "# train our model on the training set with 5 epochs it means just how many times our model gonna see the data\n",
    "model.fit(x_train, y_train, epochs = 5)"
   ]
  },
  {
   "cell_type": "code",
   "execution_count": 7,
   "id": "b52a79e4-5fea-43eb-b84c-c2fc1dd75167",
   "metadata": {},
   "outputs": [
    {
     "name": "stdout",
     "output_type": "stream",
     "text": [
      "\u001b[1m313/313\u001b[0m \u001b[32m━━━━━━━━━━━━━━━━━━━━\u001b[0m\u001b[37m\u001b[0m \u001b[1m1s\u001b[0m 1ms/step - accuracy: 0.9723 - loss: 0.1036\n"
     ]
    }
   ],
   "source": [
    "# seing how our model doing on the test set\n",
    "loss, accuracy = model.evaluate(x_test, y_test)"
   ]
  },
  {
   "cell_type": "code",
   "execution_count": 8,
   "id": "611836ce-68e1-4da2-b1f5-c16124eba883",
   "metadata": {},
   "outputs": [
    {
     "name": "stdout",
     "output_type": "stream",
     "text": [
      "Accuracy: 0.9761000275611877    Loss: 0.0904323160648346\n"
     ]
    }
   ],
   "source": [
    "# printing the accuracy and the loss\n",
    "print(\"Accuracy: \" + str(accuracy) + \"    Loss: \" + str(loss))"
   ]
  },
  {
   "cell_type": "code",
   "execution_count": 9,
   "id": "98569e43-f45c-4b10-99c6-0ea0a1c7108c",
   "metadata": {},
   "outputs": [
    {
     "name": "stdout",
     "output_type": "stream",
     "text": [
      "\u001b[1m1875/1875\u001b[0m \u001b[32m━━━━━━━━━━━━━━━━━━━━\u001b[0m\u001b[37m\u001b[0m \u001b[1m2s\u001b[0m 1ms/step - accuracy: 0.9926 - loss: 0.0209\n"
     ]
    }
   ],
   "source": [
    "# seing how our model doing on the training set\n",
    "loss_t, accuracy_t = model.evaluate(x_train, y_train)"
   ]
  },
  {
   "cell_type": "code",
   "execution_count": 10,
   "id": "1062c6c7-7009-4099-80ba-dcc7c2a4e4a7",
   "metadata": {},
   "outputs": [
    {
     "name": "stdout",
     "output_type": "stream",
     "text": [
      "Accuracy: 0.9926999807357788    Loss: 0.021450510248541832\n"
     ]
    }
   ],
   "source": [
    "# printing the accuracy and the loss of the training set\n",
    "print(\"Accuracy: \" + str(accuracy_t) + \"    Loss: \" + str(loss_t))"
   ]
  },
  {
   "cell_type": "code",
   "execution_count": 11,
   "id": "648d3c07-b2e9-460c-a018-d758ec65b35b",
   "metadata": {},
   "outputs": [],
   "source": [
    "# saving the model\n",
    "model.save(\"handwritten_digit.keras\")"
   ]
  },
  {
   "cell_type": "code",
   "execution_count": null,
   "id": "d7b731c7-f4b0-49ea-b02d-e8d5255ef3fe",
   "metadata": {},
   "outputs": [],
   "source": []
  }
 ],
 "metadata": {
  "kernelspec": {
   "display_name": "Python 3 (ipykernel)",
   "language": "python",
   "name": "python3"
  },
  "language_info": {
   "codemirror_mode": {
    "name": "ipython",
    "version": 3
   },
   "file_extension": ".py",
   "mimetype": "text/x-python",
   "name": "python",
   "nbconvert_exporter": "python",
   "pygments_lexer": "ipython3",
   "version": "3.12.4"
  }
 },
 "nbformat": 4,
 "nbformat_minor": 5
}
